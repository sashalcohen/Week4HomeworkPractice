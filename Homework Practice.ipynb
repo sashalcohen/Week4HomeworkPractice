{
 "cells": [
  {
   "cell_type": "markdown",
   "id": "11214e75",
   "metadata": {},
   "source": [
    "HW Practice For Reading CSV//Head and Tail\n",
    "\n",
    "to use pandas (a set of commands that you can import), do import PANDAS\n",
    "\n",
    "pd.read_[file format (csv, etc] ()\n",
    "pd.read_csv(\"name_of_file_as_a_string.csv\", )\n",
    "\n",
    "keep your jupiter notebooks in the same list as cvs\n",
    "\n",
    "if you execute this function, it will make a dataframe - ( a 2 dimensional data structure - you need to know two pieces of informational data structure )\n",
    "\n",
    "TO turn that into a series (one dimensional)...."
   ]
  },
  {
   "cell_type": "code",
   "execution_count": 3,
   "id": "971b56e3",
   "metadata": {},
   "outputs": [],
   "source": [
    "import pandas"
   ]
  },
  {
   "cell_type": "code",
   "execution_count": null,
   "id": "c1100f19",
   "metadata": {},
   "outputs": [],
   "source": [
    "#pd.read_csv(\"name_of_file_as_a_string.csv\", )"
   ]
  },
  {
   "cell_type": "markdown",
   "id": "80d485d6",
   "metadata": {},
   "source": [
    "HEAD AND TAIL METHOD"
   ]
  },
  {
   "cell_type": "code",
   "execution_count": null,
   "id": "27aa4a8a",
   "metadata": {},
   "outputs": [],
   "source": [
    "#pokemon = pd.read_csv(\"pokemon.csv\", usecols=[\"Name\"]).squeeze(\"columns\")\n",
    "#pokemon = pd.read_csv(\"google_stock_price.csv\", usecols=[\"Price\"]).squeeze(\"columns\")\n",
    "\n",
    "#if you call pokemon, it"
   ]
  }
 ],
 "metadata": {
  "kernelspec": {
   "display_name": "Python 3 (ipykernel)",
   "language": "python",
   "name": "python3"
  },
  "language_info": {
   "codemirror_mode": {
    "name": "ipython",
    "version": 3
   },
   "file_extension": ".py",
   "mimetype": "text/x-python",
   "name": "python",
   "nbconvert_exporter": "python",
   "pygments_lexer": "ipython3",
   "version": "3.11.5"
  }
 },
 "nbformat": 4,
 "nbformat_minor": 5
}
