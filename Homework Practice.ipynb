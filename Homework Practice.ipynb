{
 "cells": [
  {
   "cell_type": "markdown",
   "id": "11214e75",
   "metadata": {},
   "source": [
    "HW Practice For Reading CSV//Head and Tail\n",
    "\n",
    "to use pandas (a set of commands that you can import), do import PANDAS"
   ]
  },
  {
   "cell_type": "code",
   "execution_count": 2,
   "id": "971b56e3",
   "metadata": {},
   "outputs": [],
   "source": [
    "import pandas"
   ]
  },
  {
   "cell_type": "code",
   "execution_count": null,
   "id": "c1100f19",
   "metadata": {},
   "outputs": [],
   "source": []
  },
  {
   "cell_type": "code",
   "execution_count": null,
   "id": "b6b15e1f",
   "metadata": {},
   "outputs": [],
   "source": []
  }
 ],
 "metadata": {
  "kernelspec": {
   "display_name": "Python 3 (ipykernel)",
   "language": "python",
   "name": "python3"
  },
  "language_info": {
   "codemirror_mode": {
    "name": "ipython",
    "version": 3
   },
   "file_extension": ".py",
   "mimetype": "text/x-python",
   "name": "python",
   "nbconvert_exporter": "python",
   "pygments_lexer": "ipython3",
   "version": "3.11.5"
  }
 },
 "nbformat": 4,
 "nbformat_minor": 5
}
